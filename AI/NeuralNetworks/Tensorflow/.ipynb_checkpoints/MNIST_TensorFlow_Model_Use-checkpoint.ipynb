{
 "cells": [
  {
   "cell_type": "code",
   "execution_count": 1,
   "metadata": {
    "collapsed": true
   },
   "outputs": [],
   "source": [
    "import numpy as np\n",
    "import tensorflow as tf\n",
    "import matplotlib.pyplot as plt"
   ]
  },
  {
   "cell_type": "code",
   "execution_count": 4,
   "metadata": {},
   "outputs": [],
   "source": [
    "network_layer=[784,16,16,10]\n",
    "parameters = initialize_parameters(network_layer)"
   ]
  },
  {
   "cell_type": "code",
   "execution_count": 37,
   "metadata": {},
   "outputs": [
    {
     "name": "stdout",
     "output_type": "stream",
     "text": [
      "INFO:tensorflow:Restoring parameters from ./saved_model/model.ckpt\n",
      "Model restored.\n",
      "[[-0.07698201 -0.08336387 -0.07433794 ... -0.03583223  0.00852627\n",
      "   0.02142677]\n",
      " [ 0.06581955  0.0486571   0.02417413 ...  0.08421017  0.05880846\n",
      "  -0.07478838]\n",
      " [-0.03511408  0.07325806 -0.00935223 ...  0.04019384  0.06981052\n",
      "  -0.04618645]\n",
      " ...\n",
      " [-0.04202675 -0.00866584  0.07966198 ... -0.03028224 -0.08036571\n",
      "  -0.00710306]\n",
      " [-0.00700899  0.03899312 -0.0460798  ...  0.07146367  0.0320491\n",
      "   0.00994988]\n",
      " [ 0.05764115 -0.05095618  0.03379001 ...  0.05744845  0.02907361\n",
      "  -0.04694676]]\n",
      "[[ 0.23782471]\n",
      " [ 0.6917846 ]\n",
      " [-0.31217337]\n",
      " [ 0.27110642]\n",
      " [ 0.00490127]\n",
      " [ 0.28915295]\n",
      " [ 0.14158197]\n",
      " [-0.0988294 ]\n",
      " [-0.15552738]\n",
      " [-0.3880662 ]\n",
      " [-0.30541196]\n",
      " [-0.06743443]\n",
      " [ 0.13135508]\n",
      " [ 0.4248778 ]\n",
      " [ 0.22715396]\n",
      " [-0.386558  ]]\n"
     ]
    }
   ],
   "source": [
    "from tensorflow.python.framework import ops\n",
    "saver = tf.train.Saver()\n",
    "\n",
    "# Later, launch the model, use the saver to restore variables from disk, and\n",
    "# do some work with the model.\n",
    "\n",
    "init = tf.global_variables_initializer()\n",
    "with tf.Session() as sess:\n",
    "  # Restore variables from disk.\n",
    "           # Run the initialization\n",
    "    sess.run(init)\n",
    "    \n",
    "    saver.restore(sess, \"./saved_model/model.ckpt\")\n",
    "    print(\"Model restored.\")\n",
    "    print(parameters['W1'].eval())\n",
    "    print(parameters['b1'].eval())"
   ]
  },
  {
   "cell_type": "code",
   "execution_count": 38,
   "metadata": {
    "collapsed": true
   },
   "outputs": [],
   "source": [
    "\n",
    "def predict(X, parameters):\n",
    "    \n",
    "    W1 = tf.convert_to_tensor(parameters[\"W1\"])\n",
    "    b1 = tf.convert_to_tensor(parameters[\"b1\"])\n",
    "    W2 = tf.convert_to_tensor(parameters[\"W2\"])\n",
    "    b2 = tf.convert_to_tensor(parameters[\"b2\"])\n",
    "    W3 = tf.convert_to_tensor(parameters[\"W3\"])\n",
    "    b3 = tf.convert_to_tensor(parameters[\"b3\"])\n",
    "    init = tf.global_variables_initializer()\n",
    "    \n",
    "    params = {\"W1\": W1,\n",
    "              \"b1\": b1,\n",
    "              \"W2\": W2,\n",
    "              \"b2\": b2,\n",
    "              \"W3\": W3,\n",
    "              \"b3\": b3 }\n",
    "    \n",
    "    x = tf.placeholder(\"float\", [X.shape[0], 1])\n",
    "    \n",
    "    z3 = forward_propagation_for_predict(x, params)\n",
    "    p = tf.argmax(z3)\n",
    "    \n",
    "    sess = tf.Session()\n",
    "    sess.run(init)\n",
    "    prediction = sess.run(p, feed_dict = {x: X})\n",
    "        \n",
    "    return prediction\n",
    "\n",
    "def forward_propagation_for_predict(X, parameters):\n",
    "    \"\"\"\n",
    "    Implements the forward propagation for the model: LINEAR -> RELU -> LINEAR -> RELU -> LINEAR -> SOFTMAX\n",
    "    \n",
    "    Arguments:\n",
    "    X -- input dataset placeholder, of shape (input size, number of examples)\n",
    "    parameters -- python dictionary containing your parameters \"W1\", \"b1\", \"W2\", \"b2\", \"W3\", \"b3\"\n",
    "                  the shapes are given in initialize_parameters\n",
    "\n",
    "    Returns:\n",
    "    Z3 -- the output of the last LINEAR unit\n",
    "    \"\"\"\n",
    "    \n",
    "    # Retrieve the parameters from the dictionary \"parameters\" \n",
    "    W1 = parameters['W1']\n",
    "    b1 = parameters['b1']\n",
    "    W2 = parameters['W2']\n",
    "    b2 = parameters['b2']\n",
    "    W3 = parameters['W3']\n",
    "    b3 = parameters['b3'] \n",
    "                                                           # Numpy Equivalents:\n",
    "    Z1 = tf.add(tf.matmul(W1, X), b1)                      # Z1 = np.dot(W1, X) + b1\n",
    "    A1 = tf.nn.relu(Z1)                                    # A1 = relu(Z1)\n",
    "    Z2 = tf.add(tf.matmul(W2, A1), b2)                     # Z2 = np.dot(W2, a1) + b2\n",
    "    A2 = tf.nn.relu(Z2)                                    # A2 = relu(Z2)\n",
    "    Z3 = tf.add(tf.matmul(W3, A2), b3)                     # Z3 = np.dot(W3,Z2) + b3\n",
    "    \n",
    "    return Z3\n",
    "    "
   ]
  },
  {
   "cell_type": "code",
   "execution_count": 39,
   "metadata": {
    "collapsed": true
   },
   "outputs": [],
   "source": [
    "import os\n",
    "import struct\n",
    "\n",
    "def load_mnist_data(path='MNIST_data/'):\n",
    "    \"\"\"Load MNIST data from `path`\"\"\"\n",
    "    Train_labels_path = os.path.join(path,'%s-labels.idx1-ubyte'% 'train')\n",
    "    Train_images_path = os.path.join(path,'%s-images.idx3-ubyte'% 'train')\n",
    "    Test_labels_path = os.path.join(path,'%s-labels.idx1-ubyte'% 't10k')\n",
    "    Test_images_path = os.path.join(path,'%s-images.idx3-ubyte'% 't10k')\n",
    "    #open(images_path)\n",
    "    print(Train_labels_path)\n",
    "    print(type(Train_labels_path))\n",
    "    with open(Train_labels_path, 'rb') as lbpath:\n",
    "        magic, n = struct.unpack('>II',lbpath.read(8))\n",
    "        Y_train_orig = np.fromfile(lbpath,dtype=np.uint8)\n",
    "    with open(Test_labels_path, 'rb') as lbpath:\n",
    "        magic, n = struct.unpack('>II',lbpath.read(8))\n",
    "        Y_test_orig = np.fromfile(lbpath,dtype=np.uint8)\n",
    "\n",
    "    with open(Train_images_path, 'rb') as imgpath:\n",
    "        magic, num, rows, cols = struct.unpack('>IIII',imgpath.read(16))\n",
    "        X_train_orig = np.fromfile(imgpath,dtype=np.uint8).reshape(len(Y_train_orig), 784)\n",
    "    with open(Test_images_path, 'rb') as imgpath:\n",
    "        magic, num, rows, cols = struct.unpack('>IIII',imgpath.read(16))\n",
    "        X_test_orig = np.fromfile(imgpath,dtype=np.uint8).reshape(len(Y_test_orig), 784)\n",
    "\n",
    "    return X_train_orig, Y_train_orig, X_test_orig, Y_test_orig\n"
   ]
  },
  {
   "cell_type": "code",
   "execution_count": 61,
   "metadata": {},
   "outputs": [
    {
     "name": "stdout",
     "output_type": "stream",
     "text": [
      "MNIST_data/train-labels.idx1-ubyte\n",
      "<class 'str'>\n",
      "(60000, 784)\n",
      "(60000,)\n",
      "(784, 60000)\n",
      "(10, 60000)\n",
      "(10, 60000)\n",
      "[[0. 1. 0. ... 0. 0. 0.]\n",
      " [0. 0. 0. ... 0. 0. 0.]\n",
      " [0. 0. 0. ... 0. 0. 0.]\n",
      " ...\n",
      " [0. 0. 0. ... 0. 0. 0.]\n",
      " [0. 0. 0. ... 0. 0. 1.]\n",
      " [0. 0. 0. ... 0. 0. 0.]]\n",
      "(784, 10000)\n",
      "(10, 10000)\n",
      "<class 'tensorflow.python.framework.ops.Tensor'>\n",
      "<class 'numpy.ndarray'>\n",
      "<class 'numpy.ndarray'>\n",
      "(16, 784)\n",
      "(784,)\n"
     ]
    }
   ],
   "source": [
    "X_train_orig, Y_train_orig, X_test_orig, Y_test_orig = load_mnist_data(path='MNIST_data/')\n",
    "print(X_train_orig.shape)\n",
    "print(Y_train_orig.shape)\n",
    "############\n",
    "X_train = X_train_orig.T/255\n",
    "Y_train_tensor = tf.one_hot(Y_train_orig, depth=10, axis=0)\n",
    "\n",
    "X_test = X_test_orig.T/255\n",
    "Y_test_tensor = tf.one_hot(Y_test_orig, depth=10, axis=0)\n",
    "#方法1\n",
    "with tf.Session() as sess: \n",
    "    # Run session and call the output \"result\"\n",
    "    Y_train =  sess.run(Y_train_tensor)\n",
    "    Y_test = sess.run(Y_test_tensor)\n",
    "#方法2\n",
    "Y_train2 = np.eye(10)[Y_train_orig.reshape(-1)].T\n",
    "print(X_train.shape)\n",
    "print(Y_train.shape)\n",
    "print(Y_train2.shape)\n",
    "print(Y_train2)\n",
    "print(X_test.shape)\n",
    "print(Y_test.shape)\n",
    "print(type(Y_test_tensor))\n",
    "print(type(Y_test))\n",
    "print(type(X_test))\n",
    "\n",
    "print(parameters['W1'].shape)\n",
    "print(X_test.T[1].shape)"
   ]
  },
  {
   "cell_type": "code",
   "execution_count": 67,
   "metadata": {},
   "outputs": [
    {
     "data": {
      "image/png": "[encoded data removed]",
      "text/plain": [
       "<matplotlib.figure.Figure at 0x22e77b67b70>"
      ]
     },
     "metadata": {},
     "output_type": "display_data"
    },
    {
     "name": "stdout",
     "output_type": "stream",
     "text": [
      "Your algorithm predicts: Yhat = 8\n",
      "real class is Y = 4\n"
     ]
    }
   ],
   "source": [
    "import scipy\n",
    "from PIL import Image\n",
    "from scipy import ndimage\n",
    "\n",
    "## START CODE HERE ## (PUT YOUR IMAGE NAME) \n",
    "my_image = \"thumbs_up.jpg\"\n",
    "## END CODE HERE ##\n",
    "\n",
    "# We preprocess your image to fit your algorithm.\n",
    "#fname = \"images/\" + my_image\n",
    "#image = np.array(ndimage.imread(fname, flatten=False))\n",
    "#my_image = scipy.misc.imresize(image, size=(64,64)).reshape((1, 64*64*3)).T\n",
    "#my_image_prediction = predict(my_image, parameters)\n",
    "index2=4\n",
    "my_image_prediction = predict(X_test.T[index2].reshape(784, 1), parameters)\n",
    "\n",
    "\n",
    "#plt.imshow(image)\n",
    "plt.imshow(X_test.T[index2].reshape(28,28))\n",
    "plt.show()\n",
    "print(\"Your algorithm predicts: Yhat = \" + str(np.squeeze(my_image_prediction)))\n",
    "print(\"real class is Y = \"+ str(Y_test_orig[index2]))"
   ]
  },
  {
   "cell_type": "code",
   "execution_count": null,
   "metadata": {
    "collapsed": true
   },
   "outputs": [],
   "source": []
  }
 ],
 "metadata": {
  "kernelspec": {
   "display_name": "Python 3",
   "language": "python",
   "name": "python3"
  },
  "language_info": {
   "codemirror_mode": {
    "name": "ipython",
    "version": 3
   },
   "file_extension": ".py",
   "mimetype": "text/x-python",
   "name": "python",
   "nbconvert_exporter": "python",
   "pygments_lexer": "ipython3",
   "version": "3.6.3"
  }
 },
 "nbformat": 4,
 "nbformat_minor": 2
}
