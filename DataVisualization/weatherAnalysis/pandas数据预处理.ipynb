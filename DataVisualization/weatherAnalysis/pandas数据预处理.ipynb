{
 "cells": [
  {
   "cell_type": "code",
   "execution_count": 4,
   "metadata": {},
   "outputs": [],
   "source": [
    "import numpy as np\n",
    "import pandas as pd\n",
    "df = pd.read_csv('data\\\\allDate.csv')"
   ]
  },
  {
   "cell_type": "code",
   "execution_count": 5,
   "metadata": {},
   "outputs": [
    {
     "data": {
      "text/plain": [
       "(361, 4)"
      ]
     },
     "execution_count": 5,
     "metadata": {},
     "output_type": "execute_result"
    }
   ],
   "source": [
    "df.shape"
   ]
  },
  {
   "cell_type": "code",
   "execution_count": 6,
   "metadata": {},
   "outputs": [
    {
     "name": "stdout",
     "output_type": "stream",
     "text": [
      "<class 'pandas.core.frame.DataFrame'>\n",
      "RangeIndex: 361 entries, 0 to 360\n",
      "Data columns (total 4 columns):\n",
      "城市       361 non-null object\n",
      "AQI      361 non-null float64\n",
      "PM10     361 non-null float64\n",
      "PM2.5    361 non-null float64\n",
      "dtypes: float64(3), object(1)\n",
      "memory usage: 11.4+ KB\n"
     ]
    }
   ],
   "source": [
    "df.info()"
   ]
  },
  {
   "cell_type": "code",
   "execution_count": 7,
   "metadata": {},
   "outputs": [
    {
     "data": {
      "text/plain": [
       "dtype('float64')"
      ]
     },
     "execution_count": 7,
     "metadata": {},
     "output_type": "execute_result"
    }
   ],
   "source": [
    "df['AQI'].dtype"
   ]
  },
  {
   "cell_type": "code",
   "execution_count": 11,
   "metadata": {},
   "outputs": [
    {
     "data": {
      "text/plain": [
       "15.4991"
      ]
     },
     "execution_count": 11,
     "metadata": {},
     "output_type": "execute_result"
    }
   ],
   "source": [
    "df.iloc[0,3]"
   ]
  },
  {
   "cell_type": "code",
   "execution_count": 36,
   "metadata": {
    "scrolled": true
   },
   "outputs": [
    {
     "name": "stdout",
     "output_type": "stream",
     "text": [
      "       城市          日期  AQI\n",
      "53532  兰州  2013-10-28   94\n",
      "53533  兰州  2013-10-29   86\n",
      "53534  兰州  2013-10-30   77\n",
      "53535  兰州  2013-10-31   74\n",
      "53536  兰州   2013-11-1   99\n",
      "53537  兰州   2013-11-2  113\n",
      "53538  兰州   2013-11-3  139\n",
      "53539  兰州   2013-11-4  111\n",
      "53540  兰州   2013-11-5  135\n",
      "53541  兰州   2013-11-6  115\n",
      "53542  兰州   2013-11-7  119\n",
      "53543  兰州   2013-11-8  123\n",
      "53544  兰州   2013-11-9   83\n",
      "53545  兰州  2013-11-10   60\n",
      "53546  兰州  2013-11-11   82\n",
      "53547  兰州  2013-11-12   88\n",
      "53548  兰州  2013-11-13   97\n",
      "53549  兰州  2013-11-14  371\n",
      "53550  兰州  2013-11-15  414\n",
      "53551  兰州  2013-11-16  250\n",
      "53552  兰州  2013-11-17  204\n",
      "53553  兰州  2013-11-18  200\n",
      "53554  兰州  2013-11-19  200\n",
      "53555  兰州  2013-11-20  200\n",
      "53556  兰州  2013-11-21  174\n",
      "53557  兰州  2013-11-22  234\n",
      "53558  兰州  2013-11-23  109\n",
      "53559  兰州  2013-11-24  116\n",
      "53560  兰州  2013-11-25  100\n",
      "53561  兰州  2013-11-26  101\n",
      "...    ..         ...  ...\n",
      "55183  兰州   2018-5-11   76\n",
      "55184  兰州   2018-5-12   94\n",
      "55185  兰州   2018-5-13  122\n",
      "55186  兰州   2018-5-14   93\n",
      "55187  兰州   2018-5-15   91\n",
      "55188  兰州   2018-5-16  199\n",
      "55189  兰州   2018-5-17   97\n",
      "55190  兰州   2018-5-18  126\n",
      "55191  兰州   2018-5-19  108\n",
      "55192  兰州   2018-5-20   65\n",
      "55193  兰州   2018-5-21   70\n",
      "55194  兰州   2018-5-22   60\n",
      "55195  兰州   2018-5-23   67\n",
      "55196  兰州   2018-5-24   66\n",
      "55197  兰州   2018-5-25  173\n",
      "55198  兰州   2018-5-26  143\n",
      "55199  兰州   2018-5-27  124\n",
      "55200  兰州   2018-5-28  100\n",
      "55201  兰州   2018-5-29   79\n",
      "55202  兰州   2018-5-30   86\n",
      "55203  兰州   2018-5-31   67\n",
      "55204  兰州    2018-6-1   73\n",
      "55205  兰州    2018-6-2   92\n",
      "55206  兰州    2018-6-3   71\n",
      "55207  兰州    2018-6-4   63\n",
      "55208  兰州    2018-6-5   97\n",
      "55209  兰州    2018-6-6   86\n",
      "55210  兰州    2018-6-7   68\n",
      "55211  兰州    2018-6-8   57\n",
      "55212  兰州    2018-6-9   75\n",
      "\n",
      "[1681 rows x 3 columns]\n"
     ]
    }
   ],
   "source": [
    "lanzhou = df.loc[df['城市']=='兰州',['城市', '日期', 'AQI']]\n",
    "lanzhou.to_csv('lanzhou.csv')\n",
    "print(lanzhou)"
   ]
  },
  {
   "cell_type": "code",
   "execution_count": 38,
   "metadata": {
    "scrolled": true
   },
   "outputs": [
    {
     "name": "stdout",
     "output_type": "stream",
     "text": [
      "              日期  AQI\n",
      "城市                   \n",
      "七台河   2017-12-28   55\n",
      "三亚    2017-12-28   37\n",
      "三明    2017-12-28   76\n",
      "三门峡   2017-12-28  276\n",
      "上饶    2017-12-28   91\n",
      "东莞    2017-12-28  130\n",
      "东营    2017-12-28  156\n",
      "中卫    2017-12-28  348\n",
      "中山    2017-12-28  117\n",
      "临夏    2017-12-28  236\n",
      "临安    2017-12-28  112\n",
      "临汾    2017-12-28  267\n",
      "临沂    2017-12-28   87\n",
      "临沧    2017-12-28   54\n",
      "丹东    2017-12-28   49\n",
      "丽水    2017-12-28   93\n",
      "丽江    2017-12-28   55\n",
      "义乌    2017-12-28   84\n",
      "乌海    2017-12-28  137\n",
      "乌鲁木齐  2017-12-28   49\n",
      "乐山    2017-12-28  164\n",
      "九江    2017-12-28  141\n",
      "乳山    2017-12-28   72\n",
      "云浮    2017-12-28  116\n",
      "五家渠   2017-12-28   64\n",
      "亳州    2017-12-28  171\n",
      "伊春    2017-12-28   39\n",
      "伊犁    2017-12-28   39\n",
      "佛山    2017-12-28  137\n",
      "佳木斯   2017-12-28   35\n",
      "...          ...  ...\n",
      "防城港   2017-12-28   67\n",
      "阳江    2017-12-28  165\n",
      "阳泉    2017-12-28  187\n",
      "阿克苏   2017-12-28  221\n",
      "阿勒泰   2017-12-28   31\n",
      "阿坝    2017-12-28   34\n",
      "阿拉善盟  2017-12-28   85\n",
      "阿里    2017-12-28   41\n",
      "陇南    2017-12-28  121\n",
      "随州    2017-12-28  144\n",
      "雅安    2017-12-28  214\n",
      "青岛    2017-12-28   56\n",
      "鞍山    2017-12-28  118\n",
      "韶关    2017-12-28  131\n",
      "马鞍山   2017-12-28  113\n",
      "驻马店   2017-12-28  248\n",
      "鸡西    2017-12-28   31\n",
      "鹤壁    2017-12-28  192\n",
      "鹤岗    2017-12-28   38\n",
      "鹰潭    2017-12-28  118\n",
      "黄冈    2017-12-28  154\n",
      "黄南    2017-12-28   53\n",
      "黄山    2017-12-28   74\n",
      "黄石    2017-12-28  137\n",
      "黑河    2017-12-28   35\n",
      "黔东南   2017-12-28   68\n",
      "黔南    2017-12-28   52\n",
      "黔西南   2017-12-28   33\n",
      "齐齐哈尔  2017-12-28   89\n",
      "龙岩    2017-12-28   64\n",
      "\n",
      "[360 rows x 2 columns]\n"
     ]
    }
   ],
   "source": [
    "AllDay = df.loc[df['日期']=='2017-12-28',['城市', '日期', 'AQI']]\n",
    "AllDay=AllDay.set_index('城市') \n",
    "AllDay.to_csv('AllDay.txt')\n",
    "\n",
    "print(AllDay)"
   ]
  },
  {
   "cell_type": "code",
   "execution_count": null,
   "metadata": {
    "collapsed": true
   },
   "outputs": [],
   "source": []
  },
  {
   "cell_type": "code",
   "execution_count": null,
   "metadata": {
    "collapsed": true
   },
   "outputs": [],
   "source": []
  },
  {
   "cell_type": "code",
   "execution_count": null,
   "metadata": {
    "collapsed": true
   },
   "outputs": [],
   "source": []
  }
 ],
 "metadata": {
  "kernelspec": {
   "display_name": "Python 3",
   "language": "python",
   "name": "python3"
  },
  "language_info": {
   "codemirror_mode": {
    "name": "ipython",
    "version": 3
   },
   "file_extension": ".py",
   "mimetype": "text/x-python",
   "name": "python",
   "nbconvert_exporter": "python",
   "pygments_lexer": "ipython3",
   "version": "3.6.3"
  }
 },
 "nbformat": 4,
 "nbformat_minor": 2
}
